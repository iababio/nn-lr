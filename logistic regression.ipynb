{
  "cells": [
    {
      "cell_type": "code",
      "execution_count": null,
      "metadata": {
        "id": "PfOhefgH4170"
      },
      "outputs": [],
      "source": [
        "import numpy as np\n",
        "import pandas as pd\n",
        "from sklearn.model_selection import train_test_split\n",
        "from sklearn.preprocessing import MinMaxScaler\n",
        "from sklearn.metrics import f1_score, recall_score\n",
        "from pathlib import Path"
      ]
    },
    {
      "cell_type": "code",
      "execution_count": 107,
      "metadata": {
        "colab": {
          "base_uri": "https://localhost:8080/"
        },
        "id": "gtdIkoVB5UG2",
        "outputId": "b9b9f5d8-085d-41fc-edef-a16af62ef976"
      },
      "outputs": [
        {
          "output_type": "stream",
          "name": "stdout",
          "text": [
            "File ‘data/pima-indians-diabetes.csv’ already there; not retrieving.\n",
            "\n"
          ]
        }
      ],
      "source": [
        "# Ensure that we have a `data` directory we use to store downloaded data\n",
        "!mkdir -p data\n",
        "data_dir: Path = Path('data')\n",
        "\n",
        "# Downloading the \"Pinma India Diabetes\" data set\n",
        "!wget -nc -P data https://raw.githubusercontent.com/jbrownlee/Datasets/master/pima-indians-diabetes.csv"
      ]
    },
    {
      "cell_type": "code",
      "execution_count": 108,
      "metadata": {
        "id": "5Knhoqwl5acs"
      },
      "outputs": [],
      "source": [
        "# Load data and process it\n",
        "\n",
        "df = pd.read_csv('data/pima-indians-diabetes.csv')\n",
        "\n",
        "X = df.iloc[:, :-1].values\n",
        "\n",
        "# Normalize X inputs data\n",
        "scaler = MinMaxScaler()\n",
        "X = scaler.fit_transform(X)\n",
        "\n",
        "# assign labels to y\n",
        "y = df.iloc[:, -1].values\n"
      ]
    },
    {
      "cell_type": "code",
      "execution_count": null,
      "metadata": {
        "id": "NzxiGydg43lX"
      },
      "outputs": [],
      "source": [
        "def sigmoid(x):\n",
        "    # Sigmoid activation function\n",
        "    return 1 / (1 + np.exp(-x))\n",
        "\n",
        "class LogisticRegression():\n",
        "\n",
        "    def __init__(self, lr=1e-4, n_iters=10000):\n",
        "        # Constructor method to initialize logistic regression model\n",
        "        self.lr = lr  # Learning rate for gradient descent\n",
        "        self.n_iters = n_iters  # Number of iterations for gradient descent\n",
        "        self.weights = None  # Coefficients for features\n",
        "        self.bias = None  # Intercept term\n",
        "\n",
        "    def fit(self, X, y):\n",
        "        # Method to train the logistic regression model\n",
        "        n_samples, n_features = X.shape\n",
        "        self.weights = np.zeros(n_features)  # Initialize weights with zeros\n",
        "        self.bias = 0  # Initialize bias with zero\n",
        "\n",
        "        for _ in range(self.n_iters):\n",
        "            # Compute linear predictions and apply sigmoid activation\n",
        "            linear_pred = np.dot(X, self.weights) + self.bias\n",
        "            predictions = sigmoid(linear_pred)\n",
        "\n",
        "            # Compute gradients with respect to weights and bias\n",
        "            dw = (1/n_samples) * np.dot(X.T, (predictions - y))\n",
        "            db = (1/n_samples) * np.sum(predictions - y)\n",
        "\n",
        "            # Update weights and bias using gradient descent\n",
        "            self.weights = self.weights - self.lr * dw\n",
        "            self.bias = self.bias - self.lr * db\n",
        "\n",
        "    def predict(self, X):\n",
        "        # Method to make predictions using the trained model\n",
        "        linear_pred = np.dot(X, self.weights) + self.bias\n",
        "        y_pred = sigmoid(linear_pred)\n",
        "\n",
        "        # Convert probabilities to binary predictions (0 or 1)\n",
        "        class_pred = [0 if y <= 0.5 else 1 for y in y_pred]\n",
        "        return class_pred"
      ]
    },
    {
      "cell_type": "code",
      "execution_count": null,
      "metadata": {
        "colab": {
          "base_uri": "https://localhost:8080/"
        },
        "id": "kB3U4aGB5KiM",
        "outputId": "8b6d2213-5645-4158-d5c5-ed0d62dffb23"
      },
      "outputs": [
        {
          "output_type": "stream",
          "name": "stdout",
          "text": [
            "================================\n",
            "Accuracy: 0.8116883116883117\n",
            "F1 Score: 0.7238095238095237\n",
            "Recall: 0.6666666666666666\n",
            "================================\n"
          ]
        }
      ],
      "source": [
        "# Split the data into training and testing sets\n",
        "X_train, X_test, y_train, y_test = train_test_split(X, y, test_size=0.2, random_state=42)\n",
        "\n",
        "# Initialize logistic regression classifier with a specific learning rate\n",
        "clf = LogisticRegression(lr=(1e-4)+0.9981414597976055)\n",
        "\n",
        "# Train the logistic regression model on the training data\n",
        "clf.fit(X_train, y_train)\n",
        "\n",
        "# Make predictions on the test data\n",
        "y_pred = clf.predict(X_test)\n",
        "\n",
        "# Define a function to calculate accuracy\n",
        "def accuracy(y_pred, y_test):\n",
        "    return np.sum(y_pred == y_test) / len(y_test)\n",
        "\n",
        "\n",
        "# Calculate and print the accuracy of the model on the test data\n",
        "acc = accuracy(y_pred, y_test)\n",
        "\n",
        "# Calculate F1 score\n",
        "f1 = f1_score(y_test, y_pred)\n",
        "\n",
        "# Calculate recall\n",
        "recall = recall_score(y_test, y_pred)\n",
        "\n",
        "print(\"================================\")\n",
        "print(\"Accuracy:\", acc)\n",
        "print(\"F1 Score:\", f1)\n",
        "print(\"Recall:\", recall)\n",
        "print(\"================================\")"
      ]
    }
  ],
  "metadata": {
    "colab": {
      "provenance": []
    },
    "kernelspec": {
      "display_name": "Python 3",
      "name": "python3"
    },
    "language_info": {
      "name": "python"
    }
  },
  "nbformat": 4,
  "nbformat_minor": 0
}